{
 "cells": [
  {
   "cell_type": "code",
   "execution_count": 1,
   "id": "e52910bd-f4c2-40ca-aeaa-25c4689a5daf",
   "metadata": {},
   "outputs": [],
   "source": [
    "import numpy as np\n",
    "import matplotlib.pyplot as plt\n",
    "import pandas as pd\n",
    "import requests\n",
    "import re\n",
    "from bs4 import BeautifulSoup\n",
    "\n",
    "plt.rcParams['font.family'] = \"Meiryo\""
   ]
  },
  {
   "cell_type": "code",
   "execution_count": 2,
   "id": "dcb975c4-525d-475d-8c79-372f78fe2a13",
   "metadata": {},
   "outputs": [
    {
     "name": "stdout",
     "output_type": "stream",
     "text": [
      "ホームチーム：名古屋グランパス\n",
      "アウェーチーム：アビスパ福岡\n",
      "得点：0-0\n",
      "ゴール期待値：0.131-1.061\n",
      "シュート数：4-14\n"
     ]
    }
   ],
   "source": [
    "# football-labの試合URLを入力する\n",
    "inURL='https://www.football-lab.jp/nago/report?year=2024&month=04&date=07'\n",
    "\n",
    "# スクレイピング対象の URL にリクエストを送り HTML を取得する\n",
    "res = requests.get(inURL)\n",
    "\n",
    "# レスポンスの HTML から BeautifulSoup オブジェクトを作る\n",
    "soup = BeautifulSoup(res.text, 'html.parser')\n",
    "\n",
    "# ホームチーム名\n",
    "elems=soup.select('body > article > div.vsHeader > table > tr:nth-child(3) > td.tName.r > span > a')\n",
    "homeTeamName=(elems[0].contents[0])\n",
    "print('ホームチーム：'+homeTeamName)\n",
    "\n",
    "# アウェーチーム名\n",
    "elems=soup.select('body > article > div.vsHeader > table > tr:nth-child(3) > td.tName.l > span > a')\n",
    "awayTeamName=(elems[0].contents[0])\n",
    "print('アウェーチーム：'+awayTeamName)\n",
    "\n",
    "# ホームチーム得点\n",
    "elems=soup.select('body > article > div.vsHeader > table >  tr:nth-child(3) > td:nth-child(2)')\n",
    "homeGoals=int(elems[0].contents[0])\n",
    "\n",
    "# アウェーチーム得点\n",
    "elems=soup.select('body > article > div.vsHeader > table >  tr:nth-child(3) > td:nth-child(4)')\n",
    "awayGoals=int(elems[0].contents[0])\n",
    "print('得点：'+str(homeGoals)+'-'+ str(awayGoals))\n",
    "\n",
    "# ゴール期待値\n",
    "elems=soup.find_all(text=re.compile('ゴール期待値'))\n",
    "elems2=elems[1].next_element.next_element.next_element\n",
    "xg_away=float(elems2)\n",
    "elems3=elems[1].previous_element.previous_element.previous_element\n",
    "xg_home=float(elems3)\n",
    "print('ゴール期待値：'+str(xg_home) +'-'+ str(xg_away))\n",
    "\n",
    "elems=soup.select('body > article > div:nth-child(10) > table:nth-child(45) > tbody > tr:nth-child(4) > td:nth-child(4)')\n",
    "elems2=elems[0].next_element.next_element.next_element.next_element\n",
    "numShots_away=int(elems2)\n",
    "\n",
    "elems2=elems[0].previous_element.previous_element\n",
    "numShots_home=int(elems2)\n",
    "print('シュート数：'+str(numShots_home) +'-'+ str(numShots_away))\n"
   ]
  },
  {
   "cell_type": "code",
   "execution_count": 3,
   "id": "67b165b8-b377-4f3d-82c3-a010943de22c",
   "metadata": {},
   "outputs": [
    {
     "data": {
      "text/plain": [
       "Text(0, 0.5, 'HOME 名古屋グランパス')"
      ]
     },
     "execution_count": 3,
     "metadata": {},
     "output_type": "execute_result"
    },
    {
     "data": {
      "image/png": "[encoded data removed]",
      "text/plain": [
       "<Figure size 432x288 with 2 Axes>"
      ]
     },
     "metadata": {
      "needs_background": "light"
     },
     "output_type": "display_data"
    }
   ],
   "source": [
    "\n",
    "numGoal_UL=15 # 計算するゴール数の上限\n",
    "numGoal_plot_UL=max([8, homeGoals+1, awayGoals+1]) # 表示するゴール数の上限\n",
    "\n",
    "mu_xG_home = xg_home/numShots_home\n",
    "mu_xG_away = xg_away/numShots_away\n",
    "\n",
    "p=np.array([1-mu_xG_home, mu_xG_home])\n",
    "tmp=1\n",
    "for n1 in range(numShots_home):\n",
    "    tmp=np.convolve(tmp,p)\n",
    "\n",
    "p_home=tmp\n",
    "\n",
    "p=np.array([1-mu_xG_away, mu_xG_away])\n",
    "tmp=1\n",
    "for n1 in range(numShots_away):\n",
    "    tmp=np.convolve(tmp,p)\n",
    "\n",
    "p_away=tmp\n",
    "\n",
    "p_mat=np.zeros((np.max( [numShots_home,numGoal_UL]), \\\n",
    "                np.max([numShots_away,numGoal_UL])))\n",
    "\n",
    "for n1 in range(numShots_home):\n",
    "    for n2 in range(numShots_away):\n",
    "        p_mat[n1,n2]=p_home[n1]*p_away[n2]\n",
    "\n",
    "\n",
    "plt.imshow(p_mat[(numGoal_plot_UL-1)::-1,0:numGoal_plot_UL],\\\n",
    "           extent=(-0.5,numGoal_plot_UL-0.5,-0.5,numGoal_plot_UL-0.5))\n",
    "plt.colorbar()\n",
    "plt.scatter(awayGoals,homeGoals,c=\"pink\",edgecolors=\"red\")\n",
    "plt.xlabel('AWAY'+' '+ awayTeamName)\n",
    "plt.ylabel('HOME'+' '+homeTeamName)"
   ]
  },
  {
   "cell_type": "code",
   "execution_count": 9,
   "id": "dc7d6c7e-a86c-4a0d-a283-d55a8cc1c9d3",
   "metadata": {},
   "outputs": [
    {
     "name": "stdout",
     "output_type": "stream",
     "text": [
      "Win  prob.= 0.044\n",
      "Draw prob.= 0.337\n",
      "Lose prob.= 0.619\n",
      "True\n",
      "AxesSubplot(0.125,0.125;0.775x0.755)\n"
     ]
    },
    {
     "data": {
      "text/plain": [
       "Text(0.5, 1.0, '名古屋グランパス(H) 0-0 アビスパ福岡(A)')"
      ]
     },
     "execution_count": 9,
     "metadata": {},
     "output_type": "execute_result"
    },
    {
     "data": {
      "image/png": "[encoded data removed]",
      "text/plain": [
       "<Figure size 648x288 with 1 Axes>"
      ]
     },
     "metadata": {
      "needs_background": "light"
     },
     "output_type": "display_data"
    }
   ],
   "source": [
    "p_win=(np.sum( np.tril(p_mat,k=-1), axis=None))\n",
    "\n",
    "p_draw=(np.sum(np.diag(p_mat)))\n",
    "\n",
    "p_lose=np.sum(np.triu(p_mat,k=1), axis=None)\n",
    "\n",
    "print('Win  prob.= '+'{:1.3f}'.format(p_win))\n",
    "print('Draw prob.= '+'{:1.3f}'.format(p_draw))\n",
    "print('Lose prob.= '+'{:1.3f}'.format(p_lose))\n",
    "\n",
    "df = pd.DataFrame({\n",
    "    'Win':p_win,\n",
    "    'Draw':p_draw,\n",
    "    'Lose':p_lose\n",
    "}, index=[0])\n",
    "\n",
    "print(homeGoals==awayGoals)\n",
    "if homeGoals>awayGoals:\n",
    "    ax=df.plot(kind='barh', stacked=True,figsize=(9, 4),color={\"Win\":\"blue\", \"Draw\":\"gray\",\"Lose\":\"Black\"})\n",
    "elif homeGoals==awayGoals:\n",
    "    ax=df.plot(kind='barh', stacked=True,figsize=(9, 4),color={\"Win\":\"white\", \"Draw\":\"blue\",\"Lose\":\"Black\"} \\\n",
    "              ,edgecolor=\"Black\")    \n",
    "else:\n",
    "    ax=df.plot(kind='barh', stacked=True,figsize=(9, 4),color={\"Win\":\"white\", \"Draw\":\"gray\",\"Lose\":\"Blue\"} \\\n",
    "              ,edgecolor=\"Black\")    \n",
    "    \n",
    "print(ax)\n",
    "\n",
    "ax.set_xlabel('Probability')\n",
    "ax.legend(ncol=3)\n",
    "ax.set_title(homeTeamName +'(H) ' +str(homeGoals) +'-'+ str(awayGoals)+ ' ' + awayTeamName+'(A)')"
   ]
  },
  {
   "cell_type": "code",
   "execution_count": null,
   "id": "3a46a612-25d7-4537-b426-8817bb0edb53",
   "metadata": {},
   "outputs": [],
   "source": []
  }
 ],
 "metadata": {
  "kernelspec": {
   "display_name": "Python 3 (ipykernel)",
   "language": "python",
   "name": "python3"
  },
  "language_info": {
   "codemirror_mode": {
    "name": "ipython",
    "version": 3
   },
   "file_extension": ".py",
   "mimetype": "text/x-python",
   "name": "python",
   "nbconvert_exporter": "python",
   "pygments_lexer": "ipython3",
   "version": "3.7.2"
  }
 },
 "nbformat": 4,
 "nbformat_minor": 5
}
