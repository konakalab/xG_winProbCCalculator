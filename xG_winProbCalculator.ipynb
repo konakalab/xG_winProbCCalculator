{
 "cells": [
  {
   "cell_type": "code",
   "execution_count": 1,
   "id": "e52910bd-f4c2-40ca-aeaa-25c4689a5daf",
   "metadata": {},
   "outputs": [],
   "source": [
    "import numpy as np\n",
    "import matplotlib.pyplot as plt\n",
    "import pandas as pd"
   ]
  },
  {
   "cell_type": "code",
   "execution_count": 2,
   "id": "59fd8522-27f2-41c4-be78-10ef75c7e397",
   "metadata": {},
   "outputs": [
    {
     "data": {
      "text/plain": [
       "Text(0, 0.5, 'HOME')"
      ]
     },
     "execution_count": 2,
     "metadata": {},
     "output_type": "execute_result"
    },
    {
     "data": {
      "image/png": "[encoded data removed]",
      "text/plain": [
       "<Figure size 432x288 with 2 Axes>"
      ]
     },
     "metadata": {
      "needs_background": "light"
     },
     "output_type": "display_data"
    }
   ],
   "source": [
    "xg_home=0.14 # ホームのゴール期待値の合計\n",
    "numShots_home=4 # ホームのシュート数の合計\n",
    "\n",
    "xg_away=0.97 # アウェーのゴール期待値の合計\n",
    "numShots_away=14 # アウェーのシュート数の合計\n",
    "\n",
    "numGoal_UL=15 # 計算するゴール数の上限\n",
    "numGoal_plot_UL=8 # 表示するゴール数の上限\n",
    "\n",
    "mu_xG_home = xg_home/numShots_home\n",
    "mu_xG_away = xg_away/numShots_away\n",
    "\n",
    "p=np.array([1-mu_xG_home, mu_xG_home])\n",
    "tmp=1\n",
    "for n1 in range(numShots_home):\n",
    "    tmp=np.convolve(tmp,p)\n",
    "\n",
    "p_home=tmp\n",
    "\n",
    "p=np.array([1-mu_xG_away, mu_xG_away])\n",
    "tmp=1\n",
    "for n1 in range(numShots_away):\n",
    "    tmp=np.convolve(tmp,p)\n",
    "\n",
    "p_away=tmp\n",
    "\n",
    "p_mat=np.zeros((np.max( [numShots_home,numGoal_UL]), \\\n",
    "                np.max([numShots_away,numGoal_UL])))\n",
    "\n",
    "for n1 in range(numShots_home):\n",
    "    for n2 in range(numShots_away):\n",
    "        p_mat[n1,n2]=p_home[n1]*p_away[n2]\n",
    "\n",
    "\n",
    "plt.imshow(p_mat[(numGoal_plot_UL-1)::-1,0:numGoal_plot_UL],\\\n",
    "           extent=(-0.5,numGoal_plot_UL-0.5,-0.5,numGoal_plot_UL-0.5))\n",
    "plt.colorbar()\n",
    "plt.xlabel('AWAY')\n",
    "plt.ylabel('HOME')"
   ]
  },
  {
   "cell_type": "code",
   "execution_count": 9,
   "id": "dc7d6c7e-a86c-4a0d-a283-d55a8cc1c9d3",
   "metadata": {},
   "outputs": [
    {
     "name": "stdout",
     "output_type": "stream",
     "text": [
      "Win  prob.= 0.051\n",
      "Draw prob.= 0.367\n",
      "Lose prob.= 0.582\n"
     ]
    },
    {
     "data": {
      "text/plain": [
       "<matplotlib.legend.Legend at 0x205206662e8>"
      ]
     },
     "execution_count": 9,
     "metadata": {},
     "output_type": "execute_result"
    },
    {
     "data": {
      "image/png": "[encoded data removed]",
      "text/plain": [
       "<Figure size 432x288 with 1 Axes>"
      ]
     },
     "metadata": {
      "needs_background": "light"
     },
     "output_type": "display_data"
    }
   ],
   "source": [
    "p_win=(np.sum( np.tril(p_mat,k=-1), axis=None))\n",
    "\n",
    "p_draw=(np.sum(np.diag(p_mat)))\n",
    "\n",
    "p_lose=np.sum(np.triu(p_mat,k=1), axis=None)\n",
    "\n",
    "print('Win  prob.= '+'{:1.3f}'.format(p_win))\n",
    "print('Draw prob.= '+'{:1.3f}'.format(p_draw))\n",
    "print('Lose prob.= '+'{:1.3f}'.format(p_lose))\n",
    "\n",
    "df = pd.DataFrame({\n",
    "    'Win':p_win,\n",
    "    'Draw':p_draw,\n",
    "    'Lose':p_lose\n",
    "}, index=[0])\n",
    "\n",
    "ax=df.plot(kind='barh', stacked=True)\n",
    "\n",
    "ax.set_xlabel('Probability')\n",
    "ax.legend(ncol=3)"
   ]
  },
  {
   "cell_type": "code",
   "execution_count": null,
   "id": "3a46a612-25d7-4537-b426-8817bb0edb53",
   "metadata": {},
   "outputs": [],
   "source": []
  }
 ],
 "metadata": {
  "kernelspec": {
   "display_name": "Python 3 (ipykernel)",
   "language": "python",
   "name": "python3"
  },
  "language_info": {
   "codemirror_mode": {
    "name": "ipython",
    "version": 3
   },
   "file_extension": ".py",
   "mimetype": "text/x-python",
   "name": "python",
   "nbconvert_exporter": "python",
   "pygments_lexer": "ipython3",
   "version": "3.7.2"
  }
 },
 "nbformat": 4,
 "nbformat_minor": 5
}
